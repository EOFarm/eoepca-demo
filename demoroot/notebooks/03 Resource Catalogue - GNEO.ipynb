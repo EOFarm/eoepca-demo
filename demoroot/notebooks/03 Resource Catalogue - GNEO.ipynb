{
 "cells": [
  {
   "cell_type": "markdown",
   "id": "26651852-cac0-4bba-b252-d21ce96d100a",
   "metadata": {},
   "source": [
    "## GNEO Axis 3 Hub Resource Catalogue demo"
   ]
  },
  {
   "cell_type": "markdown",
   "id": "71406579-3e11-41a0-99d0-f92d137d75b6",
   "metadata": {
    "jp-MarkdownHeadingCollapsed": true
   },
   "source": [
    "### Working with OGC API Records"
   ]
  },
  {
   "cell_type": "markdown",
   "id": "8219b827-fe6d-4a8d-9af2-6f8719dd65ea",
   "metadata": {},
   "source": [
    "[OWSLib](https://geopython.github.io/OWSLib) is a Python package for client programming with Open Geospatial Consortium (OGC) web service (hence OWS) interface standards, and their related content models. In this demo we’ll work with the CSW, WMS and WCS interfaces."
   ]
  },
  {
   "cell_type": "markdown",
   "id": "b782e936-a4f5-4c42-8f61-749f9f754765",
   "metadata": {},
   "source": [
    "In this part of the demo, the user will use the system level resource catalogue OGC API Records endpoint to discover data datasets.\n",
    "The `owslib.ogcapi.records` class of OWSLib is instantiated and service metadata are shown."
   ]
  },
  {
   "cell_type": "code",
   "execution_count": null,
   "id": "658ce66c-15e4-41cd-b61a-4e9ba53dcd55",
   "metadata": {},
   "outputs": [],
   "source": [
    "from owslib.ogcapi.records import Records\n",
    "import folium\n",
    "import json\n",
    "import requests"
   ]
  },
  {
   "cell_type": "code",
   "execution_count": null,
   "id": "a226f882-ef75-477b-a927-61a24b9202e6",
   "metadata": {},
   "outputs": [],
   "source": [
    "base_domain = \"ax3hub-dev.planetek.net\""
   ]
  },
  {
   "cell_type": "code",
   "execution_count": null,
   "id": "518428c6-5cb0-41de-8578-b92c40466315",
   "metadata": {},
   "outputs": [],
   "source": [
    "system_catalogue_endpoint = f'https://catalogue.{base_domain}'"
   ]
  },
  {
   "cell_type": "code",
   "execution_count": null,
   "id": "108316b8-a2fa-4982-bcc3-219c4419c88f",
   "metadata": {},
   "outputs": [],
   "source": [
    "w = Records(system_catalogue_endpoint)"
   ]
  },
  {
   "cell_type": "code",
   "execution_count": null,
   "id": "ef7701a1-c8c7-4a6a-9e89-2f33ab458869",
   "metadata": {},
   "outputs": [],
   "source": [
    "w.url"
   ]
  },
  {
   "cell_type": "markdown",
   "id": "2a151297-f59c-4d94-8447-dfbc65bf9b28",
   "metadata": {},
   "source": [
    "Conformance classes supported by the OGC API Records server:"
   ]
  },
  {
   "cell_type": "code",
   "execution_count": null,
   "id": "8e477c07-965a-444e-8577-9b222c32b90c",
   "metadata": {},
   "outputs": [],
   "source": [
    "w.conformance()"
   ]
  },
  {
   "cell_type": "markdown",
   "id": "b92f279f-3c1f-407f-9860-22d833cf6cce",
   "metadata": {},
   "source": [
    "OpenAPI document of the OGC API Records server:"
   ]
  },
  {
   "cell_type": "code",
   "execution_count": null,
   "id": "59acaa0f-8070-4415-9676-b63c60e76731",
   "metadata": {},
   "outputs": [],
   "source": [
    "w.api()"
   ]
  },
  {
   "cell_type": "markdown",
   "id": "764ae3ea-8b07-4b4e-a4c2-8842f13a645f",
   "metadata": {},
   "source": [
    "Collections available on the catalogue:"
   ]
  },
  {
   "cell_type": "code",
   "execution_count": null,
   "id": "550a52de-2b02-4d47-b0de-0cf8f73c12b2",
   "metadata": {},
   "outputs": [],
   "source": [
    "w.collections()"
   ]
  },
  {
   "cell_type": "code",
   "execution_count": null,
   "id": "f48e1e0a-2322-4d3a-abb6-6911ed755213",
   "metadata": {},
   "outputs": [],
   "source": [
    "records = w.records()"
   ]
  },
  {
   "cell_type": "code",
   "execution_count": null,
   "id": "a854ad77-23f8-4e3a-9bf3-663e245a53c3",
   "metadata": {},
   "outputs": [],
   "source": [
    "len(records)"
   ]
  },
  {
   "cell_type": "markdown",
   "id": "2e15d32c-89aa-4453-8dcd-10faf09936eb",
   "metadata": {},
   "source": [
    "The user can then specify the collection to search within the catalogue:"
   ]
  },
  {
   "cell_type": "code",
   "execution_count": null,
   "id": "9fe1b3ef-3cf4-4e6a-9bb4-5c6c500098ed",
   "metadata": {},
   "outputs": [],
   "source": [
    "my_catalogue = w.collection('metadata:main')"
   ]
  },
  {
   "cell_type": "code",
   "execution_count": null,
   "id": "62b043a6-e2f5-4b4b-9bab-1512217760fc",
   "metadata": {},
   "outputs": [],
   "source": [
    "my_catalogue['id']"
   ]
  },
  {
   "cell_type": "markdown",
   "id": "36deb327-d2fb-490e-b585-634c514075a6",
   "metadata": {},
   "source": [
    "Collection level queryables:"
   ]
  },
  {
   "cell_type": "code",
   "execution_count": null,
   "id": "d367eff4-ad5b-4fc0-a2cd-db464277a320",
   "metadata": {},
   "outputs": [],
   "source": [
    "w.collection_queryables('metadata:main')"
   ]
  },
  {
   "cell_type": "markdown",
   "id": "bc6888f2-df55-4d20-b58a-5934ed7bb3e9",
   "metadata": {},
   "source": [
    "Query the catalogue for all records:"
   ]
  },
  {
   "cell_type": "code",
   "execution_count": null,
   "id": "610888de-980a-40ba-8958-719ccf6cb835",
   "metadata": {},
   "outputs": [],
   "source": [
    "my_catalogue_query = w.collection_items('metadata:main')"
   ]
  },
  {
   "cell_type": "code",
   "execution_count": null,
   "id": "6e9c9421-458e-4b75-ae82-e55ef609d68b",
   "metadata": {},
   "outputs": [],
   "source": [
    "my_catalogue_query['numberMatched']"
   ]
  },
  {
   "cell_type": "markdown",
   "id": "3fe916de-0436-43a6-9771-c66fbe4ca619",
   "metadata": {},
   "source": [
    "Metadata of first result:"
   ]
  },
  {
   "cell_type": "code",
   "execution_count": null,
   "id": "9564c479-6760-4377-a85c-358d55401f71",
   "metadata": {},
   "outputs": [],
   "source": [
    "my_catalogue_query['features'][0]"
   ]
  },
  {
   "cell_type": "code",
   "execution_count": null,
   "id": "be25277c-9e91-4813-9106-30d8824699ca",
   "metadata": {},
   "outputs": [],
   "source": [
    "my_catalogue_query['features'][0]['collection']"
   ]
  },
  {
   "cell_type": "code",
   "execution_count": null,
   "id": "65ed1bf4",
   "metadata": {},
   "outputs": [],
   "source": [
    "my_catalogue_query['features'][0]['properties']"
   ]
  },
  {
   "cell_type": "code",
   "execution_count": null,
   "id": "43df443c-072f-41ba-9f9f-9fbf40a95256",
   "metadata": {},
   "outputs": [],
   "source": [
    "my_catalogue_query['features'][0]['properties']['platform']"
   ]
  },
  {
   "cell_type": "markdown",
   "id": "37392923-bf30-47ee-8b4f-70a25e9b956c",
   "metadata": {},
   "source": [
    "Query the catalogue using filters:"
   ]
  },
  {
   "cell_type": "code",
   "execution_count": null,
   "id": "079e181c-6332-429b-99b7-11c302f09a3d",
   "metadata": {},
   "outputs": [],
   "source": [
    "my_catalogue_query2 = w.collection_items('metadata:main', bbox=['23.3','37.8','24.5','38.8'])"
   ]
  },
  {
   "cell_type": "code",
   "execution_count": null,
   "id": "fbc24506-4a77-4fb1-95fa-1a9b031d5b4a",
   "metadata": {},
   "outputs": [],
   "source": [
    "my_catalogue_query2['numberMatched']"
   ]
  },
  {
   "cell_type": "markdown",
   "id": "ee49eaaf-8e9a-4cb1-9622-d3c1c078d791",
   "metadata": {},
   "source": [
    "Full query result:"
   ]
  },
  {
   "cell_type": "code",
   "execution_count": null,
   "id": "4d5384be-3bfb-43da-a88e-f13f5ddeb264",
   "metadata": {},
   "outputs": [],
   "source": [
    "my_catalogue_query2"
   ]
  },
  {
   "cell_type": "markdown",
   "id": "20346504-8de2-4bc3-92fc-a321cfd45c98",
   "metadata": {},
   "source": [
    "Text CQL query:"
   ]
  },
  {
   "cell_type": "code",
   "execution_count": null,
   "id": "fd7eb4b8-46c0-4b85-ab03-b7bba6267983",
   "metadata": {},
   "outputs": [],
   "source": [
    "my_catalogue_cql_text_query = w.collection_items('metadata:main', filter=\"identifier LIKE 'S2B_%'\")"
   ]
  },
  {
   "cell_type": "code",
   "execution_count": null,
   "id": "5458640e-7b02-49ef-b7e7-028e376690ec",
   "metadata": {},
   "outputs": [],
   "source": [
    "my_catalogue_cql_text_query['numberMatched']"
   ]
  },
  {
   "cell_type": "code",
   "execution_count": null,
   "id": "2ed3b9ff-91d5-48be-a5d1-609827c658d4",
   "metadata": {},
   "outputs": [],
   "source": [
    "my_catalogue_cql_text_query['features'][0]['id']"
   ]
  },
  {
   "cell_type": "markdown",
   "id": "43b79c0e-0452-4812-aa27-b441fc7230a1",
   "metadata": {},
   "source": [
    "JSON CQL query:"
   ]
  },
  {
   "cell_type": "code",
   "execution_count": null,
   "id": "f0d43561-dabe-4fcc-9a52-e6ca1090ce82",
   "metadata": {},
   "outputs": [],
   "source": [
    "my_catalogue_cql_json_query = w.collection_items('metadata:main', limit=1, cql={'op': '=', 'args': [{ 'property': 'identifier' }, 'S2B_T34SBJ_20240801T093836_L2A-ARD']})"
   ]
  },
  {
   "cell_type": "code",
   "execution_count": null,
   "id": "90fd58c4-ab5b-4db4-9646-d29e667a400e",
   "metadata": {},
   "outputs": [],
   "source": [
    "my_catalogue_cql_json_query['features'][0]['id']"
   ]
  },
  {
   "cell_type": "code",
   "execution_count": null,
   "id": "03c683ce-91ab-4645-bb83-48bf2dfeb760",
   "metadata": {},
   "outputs": [],
   "source": [
    "my_catalogue_query3 = w.collection_items('metadata:main', bbox=['23.3','37.8','24.5','38.8'])"
   ]
  },
  {
   "cell_type": "code",
   "execution_count": null,
   "id": "259ae28e-b4bb-4028-8549-2243501bdb11",
   "metadata": {},
   "outputs": [],
   "source": [
    "my_catalogue_query3['numberMatched']"
   ]
  },
  {
   "cell_type": "code",
   "execution_count": null,
   "id": "634d6741-ebd7-4b08-9002-a8640b1b06a2",
   "metadata": {},
   "outputs": [],
   "source": [
    "bbox = my_catalogue_query3['features'][1]['bbox']"
   ]
  },
  {
   "cell_type": "code",
   "execution_count": null,
   "id": "665781ee-3b07-464f-9d00-418b61487867",
   "metadata": {},
   "outputs": [],
   "source": [
    "centre_x = float(bbox[0]) + ((float(bbox[2]) - float(bbox[0]))/2)\n",
    "centre_y = float(bbox[1]) + ((float(bbox[3]) - float(bbox[1]))/2)\n",
    "m = folium.Map(location=[centre_y, centre_x], zoom_start=7, tiles='OpenStreetMap')\n",
    "folium.Rectangle(bounds=[[float(bbox[1]), float(bbox[0])], [float(bbox[3]), float(bbox[2])]]).add_to(m)\n",
    "m"
   ]
  },
  {
   "cell_type": "markdown",
   "id": "83a79753-c757-4ff7-982b-91921ef4d849",
   "metadata": {
    "jp-MarkdownHeadingCollapsed": true
   },
   "source": [
    "### Working with pySTAC"
   ]
  },
  {
   "cell_type": "code",
   "execution_count": null,
   "id": "7bf41000-b303-464e-b5e3-34b7982767cd",
   "metadata": {},
   "outputs": [],
   "source": [
    "import json\n",
    "from pystac import Catalog, get_stac_version"
   ]
  },
  {
   "cell_type": "code",
   "execution_count": null,
   "id": "28eec5a3-a2f9-40f9-8ebe-f3e6e28848b5",
   "metadata": {},
   "outputs": [],
   "source": [
    "# Read the example catalog\n",
    "root_catalog = Catalog.from_file('../data/gneo/example-catalog/catalog.json')"
   ]
  },
  {
   "cell_type": "code",
   "execution_count": null,
   "id": "4d0f1cf4-2829-4c2e-b2b1-2acfeac3be5b",
   "metadata": {},
   "outputs": [],
   "source": [
    "root_catalog.describe()"
   ]
  },
  {
   "cell_type": "code",
   "execution_count": null,
   "id": "33916583-79c4-4b0d-a424-34634b67b3d8",
   "metadata": {},
   "outputs": [],
   "source": [
    "# Print some basic metadata from the Catalog\n",
    "print(f\"ID: {root_catalog.id}\")\n",
    "print(f\"Title: {root_catalog.title or 'N/A'}\")\n",
    "print(f\"Description: {root_catalog.description or 'N/A'}\")"
   ]
  },
  {
   "cell_type": "code",
   "execution_count": null,
   "id": "8c7b095a-b6be-4191-a1db-482c1970a41a",
   "metadata": {},
   "outputs": [],
   "source": [
    "print(get_stac_version())"
   ]
  },
  {
   "cell_type": "code",
   "execution_count": null,
   "id": "45bca6cb-429d-4235-94b3-ada745aa4c8d",
   "metadata": {},
   "outputs": [],
   "source": [
    "collections = list(root_catalog.get_collections())\n",
    "\n",
    "print(f\"Number of collections: {len(collections)}\")\n",
    "print(\"Collections IDs:\")\n",
    "for collection in collections:\n",
    "    print(f\"- {collection.id}\")"
   ]
  },
  {
   "cell_type": "code",
   "execution_count": null,
   "id": "fb3596a0-558f-443b-9e21-ac0fe8b6f053",
   "metadata": {},
   "outputs": [],
   "source": [
    "collection = root_catalog.get_child(\"landsat-8-l1\")\n",
    "if collection is None:\n",
    "    print(\"Collection is Empty. Check your downloads and try again.\")\n",
    "else:\n",
    "    print(\"Collection has a root child. You may proceed to the following steps.\")"
   ]
  },
  {
   "cell_type": "code",
   "execution_count": null,
   "id": "79f2877f-e578-4639-9593-a31e94b7bf96",
   "metadata": {},
   "outputs": [],
   "source": [
    "items = list(root_catalog.get_all_items())\n",
    "\n",
    "print(f\"Number of items: {len(items)}\")\n",
    "for item in items:\n",
    "    print(f\"- {item.id}\")"
   ]
  },
  {
   "cell_type": "code",
   "execution_count": null,
   "id": "a11188ad-b5d1-4051-8f3d-1765dcb9bcdb",
   "metadata": {},
   "outputs": [],
   "source": [
    "item = root_catalog.get_item(\"LC80140332018166LGN00\", recursive=True)"
   ]
  },
  {
   "cell_type": "code",
   "execution_count": null,
   "id": "7b79a70b-9dca-431a-8221-1243bb6a2da6",
   "metadata": {},
   "outputs": [],
   "source": [
    "item.geometry"
   ]
  },
  {
   "cell_type": "code",
   "execution_count": null,
   "id": "f0471855-30b6-4a25-b031-de19d6268884",
   "metadata": {},
   "outputs": [],
   "source": [
    "item.bbox"
   ]
  },
  {
   "cell_type": "code",
   "execution_count": null,
   "id": "b95ae60c-77c8-42e1-a079-757b097c4b9e",
   "metadata": {},
   "outputs": [],
   "source": [
    "item.datetime"
   ]
  },
  {
   "cell_type": "code",
   "execution_count": null,
   "id": "7a0d25d8-84ff-407b-b73e-cfe30e39ff37",
   "metadata": {},
   "outputs": [],
   "source": [
    "item.collection_id"
   ]
  },
  {
   "cell_type": "code",
   "execution_count": null,
   "id": "32b85f0c-9f64-43e6-9183-e75aafb77190",
   "metadata": {},
   "outputs": [],
   "source": [
    "item.get_collection()"
   ]
  },
  {
   "cell_type": "code",
   "execution_count": null,
   "id": "cc472bce-f29e-46c1-99fe-0aa25ad42167",
   "metadata": {},
   "outputs": [],
   "source": [
    "item.common_metadata.instruments"
   ]
  },
  {
   "cell_type": "code",
   "execution_count": null,
   "id": "58bb4050-c4d5-4090-bf9c-41a9658bd301",
   "metadata": {},
   "outputs": [],
   "source": [
    "item.common_metadata.platform"
   ]
  },
  {
   "cell_type": "code",
   "execution_count": null,
   "id": "300d69a3-34e3-44bc-b2bd-591d31ca9e7e",
   "metadata": {},
   "outputs": [],
   "source": [
    "item.common_metadata.gsd"
   ]
  },
  {
   "cell_type": "code",
   "execution_count": null,
   "id": "66e81aaf-5cfb-4ccc-bf28-1ca5b455dcb3",
   "metadata": {},
   "outputs": [],
   "source": [
    "item.stac_extensions"
   ]
  },
  {
   "cell_type": "code",
   "execution_count": null,
   "id": "86d32960-1993-47bc-9dc7-bd916a2f8ad0",
   "metadata": {},
   "outputs": [],
   "source": [
    "from pystac.extensions.eo import EOExtension\n",
    "from pystac.extensions.label import LabelExtension"
   ]
  },
  {
   "cell_type": "code",
   "execution_count": null,
   "id": "42ac9dc5-92fe-4b19-ab3f-161f9c17321d",
   "metadata": {},
   "outputs": [],
   "source": [
    "EOExtension.has_extension(item)"
   ]
  },
  {
   "cell_type": "code",
   "execution_count": null,
   "id": "a5d97558-8d2c-4747-999b-1568c090d757",
   "metadata": {},
   "outputs": [],
   "source": [
    "LabelExtension.has_extension(item)"
   ]
  },
  {
   "cell_type": "code",
   "execution_count": null,
   "id": "c1052651-54c1-4c27-99fb-480d0c6e9ea3",
   "metadata": {},
   "outputs": [],
   "source": [
    "eo_item_ext = EOExtension.ext(item)\n",
    "eo_item_ext.cloud_cover"
   ]
  },
  {
   "cell_type": "code",
   "execution_count": null,
   "id": "dced7d6e-17b6-4b50-84c1-f30df17c5860",
   "metadata": {},
   "outputs": [],
   "source": [
    "item.properties['eo:cloud_cover']"
   ]
  },
  {
   "cell_type": "code",
   "execution_count": null,
   "id": "70422028-3cc1-4888-8ffd-1dda51fad148",
   "metadata": {},
   "outputs": [],
   "source": [
    "for asset_key in item.assets:\n",
    "    asset = item.assets[asset_key]\n",
    "    print('{}: {} ({})'.format(asset_key, asset.href, asset.media_type))"
   ]
  },
  {
   "cell_type": "code",
   "execution_count": null,
   "id": "30603d5f-2dae-4890-8e91-905512c57a80",
   "metadata": {},
   "outputs": [],
   "source": [
    "asset = item.assets['B3']\n",
    "asset.to_dict()"
   ]
  },
  {
   "cell_type": "code",
   "execution_count": null,
   "id": "bdf18800-5207-4cc8-a933-fd75685b8f80",
   "metadata": {},
   "outputs": [],
   "source": [
    "eo_asset_ext = EOExtension.ext(asset)\n",
    "bands = eo_asset_ext.bands\n",
    "bands"
   ]
  },
  {
   "cell_type": "code",
   "execution_count": null,
   "id": "fa420ce9-9600-4e19-9d8a-7886a06255fa",
   "metadata": {},
   "outputs": [],
   "source": [
    "bands[0].to_dict()"
   ]
  },
  {
   "cell_type": "markdown",
   "id": "39b444fc-db2b-47d1-b1ec-4d3afc037ee2",
   "metadata": {
    "jp-MarkdownHeadingCollapsed": true
   },
   "source": [
    "### Working with STAC API"
   ]
  },
  {
   "cell_type": "markdown",
   "id": "a84eb2de-869b-4a30-a67e-88d7cfdd5ab2",
   "metadata": {},
   "source": [
    "In this part of the demo, the user will use the system level resource catalogue STAC API endpoint to discover data datasets.\n",
    "The `pystac_client` library is used as a STAC client."
   ]
  },
  {
   "cell_type": "code",
   "execution_count": null,
   "id": "2d2a3107-e895-4881-a6b6-8c50d086e1fe",
   "metadata": {},
   "outputs": [],
   "source": [
    "from pystac_client import Client\n",
    "from pystac_client import ConformanceClasses"
   ]
  },
  {
   "cell_type": "code",
   "execution_count": null,
   "id": "10dde737-eff2-4894-b784-47452031f4b5",
   "metadata": {},
   "outputs": [],
   "source": [
    "#system_catalogue_endpoint = f'https://catalogue.{base_domain}/stac'\n",
    "system_catalogue_endpoint = \"https://earth-search.aws.element84.com/v1\""
   ]
  },
  {
   "cell_type": "code",
   "execution_count": null,
   "id": "bbad6f94-c992-4c5a-b4d9-bbe2b304b79f",
   "metadata": {},
   "outputs": [],
   "source": [
    "catalog = Client.open(system_catalogue_endpoint)"
   ]
  },
  {
   "cell_type": "markdown",
   "id": "12ba3b68-8d2b-4963-8e51-d1b281ecb06f",
   "metadata": {},
   "source": [
    "STAC catalogue metadata:"
   ]
  },
  {
   "cell_type": "code",
   "execution_count": null,
   "id": "5b2f23f2-99e7-4a39-bd99-7eb48c08c31c",
   "metadata": {},
   "outputs": [],
   "source": [
    "catalog.id"
   ]
  },
  {
   "cell_type": "code",
   "execution_count": null,
   "id": "496f811e-a3f4-4b26-8c72-8ae345f4999e",
   "metadata": {},
   "outputs": [],
   "source": [
    "catalog.title"
   ]
  },
  {
   "cell_type": "code",
   "execution_count": null,
   "id": "99eda27f-8f95-484b-adf5-64f6e40d5043",
   "metadata": {},
   "outputs": [],
   "source": [
    "catalog.description"
   ]
  },
  {
   "cell_type": "markdown",
   "id": "e8e330f9-17bc-4798-944f-a23b9ef64a47",
   "metadata": {},
   "source": [
    "Conformance classes supported by the STAC API endpoint:"
   ]
  },
  {
   "cell_type": "code",
   "execution_count": null,
   "id": "8f887e5a-796d-4593-bedb-d805febe318f",
   "metadata": {},
   "outputs": [],
   "source": [
    "dir(ConformanceClasses)"
   ]
  },
  {
   "cell_type": "markdown",
   "id": "c4bcd6a1-5886-4b4d-abc1-ad820090228d",
   "metadata": {},
   "source": [
    "Validation of STAC API using `pystac_client`:"
   ]
  },
  {
   "cell_type": "code",
   "execution_count": null,
   "id": "e46ac39f-8aa6-4392-a97c-02ce7e0fd767",
   "metadata": {},
   "outputs": [],
   "source": [
    "catalog.conforms_to(ConformanceClasses.CORE)"
   ]
  },
  {
   "cell_type": "code",
   "execution_count": null,
   "id": "151690bc-396a-4c0a-86df-3f1ae888b6d1",
   "metadata": {},
   "outputs": [],
   "source": [
    "catalog.conforms_to(ConformanceClasses.ITEM_SEARCH)"
   ]
  },
  {
   "cell_type": "markdown",
   "id": "9e48e025-4801-480b-81a8-8af6f4e32b8a",
   "metadata": {},
   "source": [
    "Query the catalogue for collections:"
   ]
  },
  {
   "cell_type": "code",
   "execution_count": null,
   "id": "897b8ba6-b146-4a3e-b0bf-f8788f9a3e87",
   "metadata": {},
   "outputs": [],
   "source": [
    "collection_search = catalog.collection_search(\n",
    "    q='\"sentinel-2\" OR \"sentinel-1\"',\n",
    ")"
   ]
  },
  {
   "cell_type": "code",
   "execution_count": null,
   "id": "9e6a2c36-dd32-4ea0-a16f-d573cd686c02",
   "metadata": {},
   "outputs": [],
   "source": [
    "print(f\"{collection_search.matched()} collections found\")"
   ]
  },
  {
   "cell_type": "code",
   "execution_count": null,
   "id": "ebc77922-9bcc-4642-bdc7-547a8fb86a81",
   "metadata": {},
   "outputs": [],
   "source": [
    "for collection in collection_search.collections():\n",
    "    print(collection.id)"
   ]
  },
  {
   "cell_type": "markdown",
   "id": "6b99c79c-e60c-4203-8721-d15d16523327",
   "metadata": {},
   "source": [
    "Query the catalogue for all STAC items in one collection:"
   ]
  },
  {
   "cell_type": "code",
   "execution_count": null,
   "id": "946d05b7-1a60-49b7-853b-fbc5656c4cf4",
   "metadata": {},
   "outputs": [],
   "source": [
    "COLLECTION_ID = \"sentinel-2-l2a\""
   ]
  },
  {
   "cell_type": "code",
   "execution_count": null,
   "id": "c198d93e-4905-4e9a-932e-9c9fb8616954",
   "metadata": {},
   "outputs": [],
   "source": [
    "mysearch = catalog.search(collections=[COLLECTION_ID], max_items=10)\n",
    "print(f\"{mysearch.matched()} items found\")"
   ]
  },
  {
   "cell_type": "code",
   "execution_count": null,
   "id": "7aab09ef-e21b-43d7-b61f-30f5664dc498",
   "metadata": {},
   "outputs": [],
   "source": [
    "for item in mysearch.items():\n",
    "    print(item)"
   ]
  },
  {
   "cell_type": "code",
   "execution_count": null,
   "id": "1092c4c8-8ded-4283-a963-14a8a55fd913",
   "metadata": {},
   "outputs": [],
   "source": [
    "items = mysearch.get_items()"
   ]
  },
  {
   "cell_type": "code",
   "execution_count": null,
   "id": "95b75d71-cc69-4b82-9b13-4d9011d37b38",
   "metadata": {},
   "outputs": [],
   "source": [
    "mysearch.item_collection()"
   ]
  },
  {
   "cell_type": "markdown",
   "id": "8e2b1bd5-8a4d-49e0-8317-5508e96a96f7",
   "metadata": {},
   "source": [
    "Query the STAC API using filters:"
   ]
  },
  {
   "cell_type": "code",
   "execution_count": null,
   "id": "b1e2e1a1-65f3-499f-8983-4a1b34036a99",
   "metadata": {},
   "outputs": [],
   "source": [
    "search = catalog.search(\n",
    "    max_items=10,\n",
    "    collections=[COLLECTION_ID],\n",
    "    bbox=[23.3,37.8,24.5,38.8]\n",
    ")"
   ]
  },
  {
   "cell_type": "code",
   "execution_count": null,
   "id": "2ff2fb88-2798-4535-88da-c3db3eb9f77c",
   "metadata": {},
   "outputs": [],
   "source": [
    "print(f\"{search.matched()} items found\")"
   ]
  },
  {
   "cell_type": "markdown",
   "id": "691602b7-6736-4b61-a89e-1b8ff71dbd35",
   "metadata": {},
   "source": [
    "Iterate through the query results:"
   ]
  },
  {
   "cell_type": "code",
   "execution_count": null,
   "id": "8eee9841-f32d-4f07-b25a-cb838f81f3ef",
   "metadata": {},
   "outputs": [],
   "source": [
    "for item in search.items():\n",
    "    print(item.id)"
   ]
  },
  {
   "cell_type": "markdown",
   "id": "acaefe17-80d5-488f-bd8f-f2673161b9a0",
   "metadata": {},
   "source": [
    "Show first STAC item JSON:"
   ]
  },
  {
   "cell_type": "code",
   "execution_count": null,
   "id": "503ec84e-a941-44e0-bfc7-87a9a6bda8c2",
   "metadata": {},
   "outputs": [],
   "source": [
    "first_item = next(mysearch.items())\n",
    "first_item"
   ]
  },
  {
   "cell_type": "code",
   "execution_count": null,
   "id": "51363e43-87d5-4418-9286-ea758c6e7fe4",
   "metadata": {},
   "outputs": [],
   "source": [
    "item_collection = search.item_collection()\n",
    "item_collection.save_object('my_itemcollection.json')"
   ]
  },
  {
   "cell_type": "markdown",
   "id": "019cda1d-afac-45f6-b1e9-5f0acffbd452",
   "metadata": {
    "jp-MarkdownHeadingCollapsed": true
   },
   "source": [
    "### Creating STAC Catalog"
   ]
  },
  {
   "cell_type": "code",
   "execution_count": null,
   "id": "ef9d7a3a-e4e3-4977-a1dc-b20441841722",
   "metadata": {},
   "outputs": [],
   "source": [
    "# pip install shapely"
   ]
  },
  {
   "cell_type": "code",
   "execution_count": null,
   "id": "47005e84-c9b9-4edc-a9bb-b9b8cde5120c",
   "metadata": {},
   "outputs": [],
   "source": [
    "import os\n",
    "import json\n",
    "import rasterio\n",
    "import urllib.request\n",
    "import pystac\n",
    "from shapely.geometry import Polygon, mapping\n",
    "from datetime import datetime, timezone\n",
    "from tempfile import TemporaryDirectory"
   ]
  },
  {
   "cell_type": "code",
   "execution_count": null,
   "id": "84532c79-0c66-4e15-9998-e1adfb76b314",
   "metadata": {},
   "outputs": [],
   "source": [
    "# Set temporary directory to store source data\n",
    "tmp_dir = TemporaryDirectory()\n",
    "img_path = os.path.join(tmp_dir.name, 'image.tif')"
   ]
  },
  {
   "cell_type": "code",
   "execution_count": null,
   "id": "8d271685-1898-44d7-af50-a35b205df9f0",
   "metadata": {},
   "outputs": [],
   "source": [
    "url = (\"https://eks-1-hub.s3.eu-central-1.amazonaws.com/data/data_ard/SENTINEL-2/S2A_MSIL2A_20240801T084601_N0511_R107_T35SNC_20240801T150054.SAFE/T35SNC_20240801T084601_B02_10m.tif\")\n",
    "urllib.request.urlretrieve(url, img_path)"
   ]
  },
  {
   "cell_type": "code",
   "execution_count": null,
   "id": "269b84d0-306f-41d6-a89a-a28ec5ea6215",
   "metadata": {},
   "outputs": [],
   "source": [
    "catalog = pystac.Catalog(id='tutorial-catalog', description='This catalog is a basic demonstration catalog utilizing a scene from Axis 3 Hub ARD.')"
   ]
  },
  {
   "cell_type": "code",
   "execution_count": null,
   "id": "74cfdf71-6af7-459b-b700-9192aec67b1f",
   "metadata": {},
   "outputs": [],
   "source": [
    "print(list(catalog.get_children()))\n",
    "print(list(catalog.get_items()))"
   ]
  },
  {
   "cell_type": "code",
   "execution_count": null,
   "id": "a0ef3b56-4484-4bd6-b4f7-8eae7df892c6",
   "metadata": {},
   "outputs": [],
   "source": [
    "print(json.dumps(catalog.to_dict(), indent=4))"
   ]
  },
  {
   "cell_type": "code",
   "execution_count": null,
   "id": "32d59b03-9a56-4454-9885-556f28796d3c",
   "metadata": {},
   "outputs": [],
   "source": [
    "def get_bbox_and_footprint(raster):\n",
    "    with rasterio.open(raster) as r:\n",
    "        bounds = r.bounds\n",
    "        bbox = [bounds.left, bounds.bottom, bounds.right, bounds.top]\n",
    "        footprint = Polygon([\n",
    "            [bounds.left, bounds.bottom],\n",
    "            [bounds.left, bounds.top],\n",
    "            [bounds.right, bounds.top],\n",
    "            [bounds.right, bounds.bottom]\n",
    "        ])\n",
    "        \n",
    "        return (bbox, mapping(footprint))"
   ]
  },
  {
   "cell_type": "code",
   "execution_count": null,
   "id": "6a2119de-cf96-489c-8ea7-01c4e37778bf",
   "metadata": {},
   "outputs": [],
   "source": [
    "# Run the function and print out the results\n",
    "bbox, footprint = get_bbox_and_footprint(img_path)\n",
    "print(\"bbox: \", bbox, \"\\n\")\n",
    "print(\"footprint: \", footprint)"
   ]
  },
  {
   "cell_type": "code",
   "execution_count": null,
   "id": "59990aee-d406-48b5-9d4c-a31f6e55b7a4",
   "metadata": {},
   "outputs": [],
   "source": [
    "datetime_utc = datetime.now(tz=timezone.utc)"
   ]
  },
  {
   "cell_type": "code",
   "execution_count": null,
   "id": "1743abec-8347-4c5a-bdd1-391eee8f3909",
   "metadata": {},
   "outputs": [],
   "source": [
    "item = pystac.Item(id='local-image',\n",
    "                 geometry=footprint,\n",
    "                 bbox=bbox,\n",
    "                 datetime=datetime_utc,\n",
    "                 properties={})"
   ]
  },
  {
   "cell_type": "code",
   "execution_count": null,
   "id": "89dc3594-c249-4900-a466-ece5bfd188a8",
   "metadata": {},
   "outputs": [],
   "source": [
    "print(item.get_parent() is None)"
   ]
  },
  {
   "cell_type": "code",
   "execution_count": null,
   "id": "686d030a-c2c0-47c9-97f6-a14470a6c58f",
   "metadata": {},
   "outputs": [],
   "source": [
    "catalog.add_item(item)"
   ]
  },
  {
   "cell_type": "code",
   "execution_count": null,
   "id": "71738c63-b1a0-408b-8ba4-a5b92769c9b3",
   "metadata": {},
   "outputs": [],
   "source": [
    "item.get_parent()"
   ]
  },
  {
   "cell_type": "code",
   "execution_count": null,
   "id": "87b5cfbf-794b-44e3-b966-0f920ca34e0f",
   "metadata": {},
   "outputs": [],
   "source": [
    "catalog.describe()"
   ]
  },
  {
   "cell_type": "code",
   "execution_count": null,
   "id": "cbc4a22b-cd66-485c-b368-f4ffccfc7096",
   "metadata": {},
   "outputs": [],
   "source": [
    "# Add Asset and all its information to Item \n",
    "item.add_asset(\n",
    "    key='image',\n",
    "    asset=pystac.Asset(\n",
    "        href=img_path,\n",
    "        media_type=pystac.MediaType.GEOTIFF\n",
    "    )\n",
    ")"
   ]
  },
  {
   "cell_type": "code",
   "execution_count": null,
   "id": "92626361-417e-42a5-8a2a-477b56684468",
   "metadata": {},
   "outputs": [],
   "source": [
    "print(json.dumps(item.to_dict(), indent=4))"
   ]
  },
  {
   "cell_type": "code",
   "execution_count": null,
   "id": "0dde2657-3991-4ee6-9c53-a82eed3956b2",
   "metadata": {},
   "outputs": [],
   "source": [
    "print(catalog.get_self_href() is None)\n",
    "print(item.get_self_href() is None)"
   ]
  },
  {
   "cell_type": "code",
   "execution_count": null,
   "id": "26b56be3-c404-44ff-a9a3-5145222142ce",
   "metadata": {},
   "outputs": [],
   "source": [
    "catalog.normalize_hrefs(os.path.join(tmp_dir.name, \"stac\"))"
   ]
  },
  {
   "cell_type": "code",
   "execution_count": null,
   "id": "65b38118-6eef-4190-b7ed-3c1a034b5133",
   "metadata": {},
   "outputs": [],
   "source": [
    "print(\"Catalog HREF: \", catalog.get_self_href())\n",
    "print(\"Item HREF: \", item.get_self_href())"
   ]
  },
  {
   "cell_type": "code",
   "execution_count": null,
   "id": "90d05859-4874-434a-bfe0-2175ee1e7912",
   "metadata": {},
   "outputs": [],
   "source": [
    "catalog.save(catalog_type=pystac.CatalogType.SELF_CONTAINED)\n",
    "#catalog.save(catalog_type=pystac.CatalogType.ABSOLUTE_PUBLISHED)"
   ]
  },
  {
   "cell_type": "code",
   "execution_count": null,
   "id": "ad516817-06c6-49c4-ad71-aa3a16dece9c",
   "metadata": {},
   "outputs": [],
   "source": [
    "with open(catalog.self_href) as f:\n",
    "    print(f.read())"
   ]
  },
  {
   "cell_type": "code",
   "execution_count": null,
   "id": "65f6a871-ac7b-4e8c-9dd1-bbe7fa6c6e02",
   "metadata": {},
   "outputs": [],
   "source": [
    "with open(item.self_href) as f:\n",
    "    print(f.read())"
   ]
  },
  {
   "cell_type": "code",
   "execution_count": null,
   "id": "7ac51ae2-882a-41d4-87e3-f4ab5ae80d27",
   "metadata": {},
   "outputs": [],
   "source": [
    "tmp_dir.cleanup()"
   ]
  },
  {
   "cell_type": "markdown",
   "id": "24f92b13-646b-4982-87c4-f62926b27a45",
   "metadata": {
    "jp-MarkdownHeadingCollapsed": true
   },
   "source": [
    "### Working with ODC-STAC"
   ]
  },
  {
   "cell_type": "code",
   "execution_count": null,
   "id": "8c5303b4-94af-4d2e-949f-4ec438dd78d3",
   "metadata": {},
   "outputs": [],
   "source": [
    "# pip install odc-stac"
   ]
  },
  {
   "cell_type": "code",
   "execution_count": null,
   "id": "810be960-e630-45c2-ae29-368a47587e79",
   "metadata": {},
   "outputs": [],
   "source": [
    "from odc.stac import configure_rio, stac_load\n",
    "import yaml"
   ]
  },
  {
   "cell_type": "code",
   "execution_count": null,
   "id": "671f41d1-36ed-46ef-903c-3a0fc630ee87",
   "metadata": {},
   "outputs": [],
   "source": [
    "km2deg = 1.0 / 111\n",
    "x, y = (113.887, -25.843)  # Center point of a query\n",
    "r = 100 * km2deg\n",
    "bbox = (x - r, y - r, x + r, y + r)"
   ]
  },
  {
   "cell_type": "code",
   "execution_count": null,
   "id": "cce72298-88de-4176-9ae9-87d48eec9310",
   "metadata": {},
   "outputs": [],
   "source": [
    "catalog = Client.open(\"https://earth-search.aws.element84.com/v1\")\n",
    "\n",
    "query = catalog.search(\n",
    "    collections=[\"sentinel-2-l2a\"], datetime=\"2021-09-16\", limit=100, bbox=bbox\n",
    ")\n",
    "\n",
    "items = list(query.items())\n",
    "print(f\"Found: {len(items):d} datasets\")\n",
    "\n",
    "# Convert STAC items into a GeoJSON FeatureCollection\n",
    "stac_json = query.item_collection_as_dict()"
   ]
  },
  {
   "cell_type": "code",
   "execution_count": null,
   "id": "395a33b7-eb73-4880-9b65-d711015b996d",
   "metadata": {},
   "outputs": [],
   "source": [
    "cfg = \"\"\"---\n",
    "sentinel-s2-l2a-cogs:\n",
    "  assets:\n",
    "    '*':\n",
    "      data_type: uint16\n",
    "      nodata: 0\n",
    "      unit: '1'\n",
    "    SCL:\n",
    "      data_type: uint8\n",
    "      nodata: 0\n",
    "      unit: '1'\n",
    "    visual:\n",
    "      data_type: uint8\n",
    "      nodata: 0\n",
    "      unit: '1'\n",
    "  aliases:  # Alias -> Canonical Name\n",
    "    red: B04\n",
    "    green: B03\n",
    "    blue: B02\n",
    "\"*\":\n",
    "  warnings: ignore # Disable warnings about duplicate common names\n",
    "\"\"\"\n",
    "cfg = yaml.load(cfg, Loader=yaml.SafeLoader)"
   ]
  },
  {
   "cell_type": "code",
   "execution_count": null,
   "id": "d371ef11-c6fb-4e6c-9d6d-59b8642abfe2",
   "metadata": {},
   "outputs": [],
   "source": [
    "crs = \"epsg:3857\""
   ]
  },
  {
   "cell_type": "code",
   "execution_count": null,
   "id": "c5502922-9f21-4120-a098-f0e00f82b759",
   "metadata": {},
   "outputs": [],
   "source": [
    "r = 6.5 * km2deg\n",
    "small_bbox = (x - r, y - r, x + r, y + r)\n",
    "\n",
    "xx = stac_load(\n",
    "    items,\n",
    "    bands=(\"red\", \"green\", \"blue\"),\n",
    "    crs=crs,\n",
    "    resolution=10,\n",
    "    chunks={},  # <-- use Dask\n",
    "    groupby=\"solar_day\",\n",
    "    bbox=small_bbox,\n",
    ")\n",
    "display(xx)"
   ]
  },
  {
   "cell_type": "code",
   "execution_count": null,
   "id": "57a52821-a4e9-4879-80ca-be173eb8b5aa",
   "metadata": {},
   "outputs": [],
   "source": [
    "xx.odc.geobox"
   ]
  },
  {
   "cell_type": "code",
   "execution_count": null,
   "id": "b864ffaa-b2c9-4b85-84e8-31ad102672a9",
   "metadata": {},
   "outputs": [],
   "source": [
    "%%time\n",
    "xx = xx.compute()"
   ]
  },
  {
   "cell_type": "code",
   "execution_count": null,
   "id": "2d9fa476-8eb4-4e46-92bd-9cd23a6d3f33",
   "metadata": {},
   "outputs": [],
   "source": [
    "_ = (\n",
    "    xx.isel(time=0)\n",
    "    .to_array(\"band\")\n",
    "    .plot.imshow(\n",
    "        col=\"band\",\n",
    "        size=4,\n",
    "        vmin=0,\n",
    "        vmax=4000,\n",
    "    )\n",
    ")"
   ]
  }
 ],
 "metadata": {
  "kernelspec": {
   "display_name": "Python 3 (ipykernel)",
   "language": "python",
   "name": "python3"
  },
  "language_info": {
   "codemirror_mode": {
    "name": "ipython",
    "version": 3
   },
   "file_extension": ".py",
   "mimetype": "text/x-python",
   "name": "python",
   "nbconvert_exporter": "python",
   "pygments_lexer": "ipython3",
   "version": "3.12.9"
  }
 },
 "nbformat": 4,
 "nbformat_minor": 5
}
